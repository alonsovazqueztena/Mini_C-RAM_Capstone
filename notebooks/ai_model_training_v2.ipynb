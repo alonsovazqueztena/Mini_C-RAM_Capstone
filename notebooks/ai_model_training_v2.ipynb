{
  "cells": [
    {
      "cell_type": "code",
      "execution_count": null,
      "metadata": {
        "id": "G-IloN9P4uZ0"
      },
      "outputs": [],
      "source": [
        "# Alonso Vazquez Tena\n",
        "# STG-452: Capstone Project II\n",
        "# I used source code from the following\n",
        "# website to complete this assignment:\n",
        "# https://chatgpt.com/share/67ba6278-9328-800e-bf32-540708d074c6\n",
        "# (used as starter code for basic functionality).\n",
        "\n",
        "# Import Google Drive.\n",
        "from google.colab import drive\n",
        "\n",
        "# Ensure that the Google Drive is flushed and unmounted\n",
        "# to refresh for the next epochs.\n",
        "drive.flush_and_unmount()"
      ]
    },
    {
      "cell_type": "code",
      "execution_count": null,
      "metadata": {
        "id": "eBUJvPKl4hcT"
      },
      "outputs": [],
      "source": [
        "# Check if Google Drive is able to\n",
        "# be accessed.\n",
        "!ls Insert Google Drive path here"
      ]
    },
    {
      "cell_type": "code",
      "execution_count": null,
      "metadata": {
        "id": "U3B4m26N6jHn"
      },
      "outputs": [],
      "source": [
        "# If Google Drive is present, remove it\n",
        "# to ensure we can mount it again.\n",
        "!rm -rf Insert Google Drive path here"
      ]
    },
    {
      "cell_type": "code",
      "execution_count": null,
      "metadata": {
        "id": "fgv2uWQ56l9o"
      },
      "outputs": [],
      "source": [
        "# We import the Google Drive again.\n",
        "from google.colab import drive\n",
        "\n",
        "# We mount the Google Drive.\n",
        "drive.mount('Insert Google Drive path here')"
      ]
    },
    {
      "cell_type": "code",
      "execution_count": null,
      "metadata": {
        "id": "NCEBGh-aQfd5"
      },
      "outputs": [],
      "source": [
        "# Check if we can access the images dataset.\n",
        "!ls \"Insert images dataset path here\""
      ]
    },
    {
      "cell_type": "code",
      "execution_count": null,
      "metadata": {
        "id": "1bNRSGXuQk_v"
      },
      "outputs": [],
      "source": [
        "# Install tensorboard, so we can retrieve useful\n",
        "# graphs regarding the accuracy and metrics of\n",
        "# the AI model.\n",
        "!pip install tensorboard"
      ]
    },
    {
      "cell_type": "code",
      "execution_count": null,
      "metadata": {
        "id": "KHqYMF9X-tkx"
      },
      "outputs": [],
      "source": [
        "# Ensure that CUDA is available to be used for faster, \n",
        "# optimized AI training.\n",
        "\n",
        "!nvidia-smi\n",
        "import torch\n",
        "print(\"torch.cuda.is_available():\", torch.cuda.is_available())\n",
        "print(\"torch.cuda.device_count():\", torch.cuda.device_count())\n"
      ]
    },
    {
      "cell_type": "code",
      "execution_count": null,
      "metadata": {
        "id": "ZQV3x1SSQvrM"
      },
      "outputs": [],
      "source": [
        "# The following dependencies must be installed.\n",
        "\n",
        "# Ultralytics is the dependency in which our YOLO\n",
        "# model's program code is located at for training,\n",
        "# predicting, tracking, etc.\n",
        "\n",
        "# Yagmail is the dependency in which we can\n",
        "# receive email alerts regarding the training status.\n",
        "!pip install ultralytics yagmail\n",
        "\n",
        "!pip install -U ultralytics\n",
        "\n",
        "# We import yagmail to leverage email alerts.\n",
        "import yagmail\n",
        "\n",
        "# This allows for interaction with the operating system.\n",
        "import os\n",
        "\n",
        "# This allows for debugging and error handling.\n",
        "import traceback\n",
        "\n",
        "# Import YOLO to be able to use training, predicting,\n",
        "# tracking, etc. methods.\n",
        "from ultralytics import YOLO\n",
        "\n",
        "# We take in the Tensorboard log directory.\n",
        "tensorboard_log_dir = \"Insert Tensorboard log directory path here\"\n",
        "\n",
        "# If the Tensorboard log directory does not exist, create it.\n",
        "os.makedirs(\n",
        "    tensorboard_log_dir,\n",
        "    exist_ok=True\n",
        "    )\n",
        "\n",
        "# This method sends email notifications for any training statuses.\n",
        "def send_email_notification(\n",
        "      subject, body):\n",
        "    \"\"\"Send an email notification.\"\"\"\n",
        "\n",
        "    try:\n",
        "        # Take in our credentials (must be established through\n",
        "        # your email account).\n",
        "        yag = yagmail.SMTP(\n",
        "            \"Insert your email address here\",\n",
        "            \"Insert your Yagmail security code here\")\n",
        "\n",
        "        # Using our email address, send the email.\n",
        "        yag.send(\n",
        "            to=\"Insert your email address here\",\n",
        "            subject=subject,\n",
        "            contents=body,\n",
        "        )\n",
        "\n",
        "        # Print to the console that an email was sent.\n",
        "        print(\n",
        "            f\"Email sent: {subject}\"\n",
        "            )\n",
        "\n",
        "    except Exception as e:\n",
        "\n",
        "        # Print to the console that an email failed to send.\n",
        "        print(f\"Failed to send email: {e}\")\n",
        "\n",
        "try:\n",
        "    # We load in the YOLO model here.\n",
        "    model = YOLO(\n",
        "        \"Insert your YOLO model directory path here\")\n",
        "\n",
        "    # We take in the checkpoints directory.\n",
        "    checkpoints_dir = \"Insert your YOLO model checkpoints directory path here\"\n",
        "\n",
        "    # If the checkpoints directory does not exist,\n",
        "    # create it.\n",
        "    os.makedirs(\n",
        "        checkpoints_dir,\n",
        "        exist_ok=True\n",
        "        )\n",
        "\n",
        "    # Print how many additional epochs is to be done.\n",
        "\n",
        "    total_additional_epochs = 100\n",
        "\n",
        "    print(f\"Starting from epoch 0, training for {total_additional_epochs} more epochs (until epoch 100)...\")\n",
        "\n",
        "    # We train for one epoch here.\n",
        "\n",
        "    # We bring in the data through a YAML file, establish\n",
        "    # the image size, assign what device we will save (GPU CUDA),\n",
        "    # enable automatic saving, save every epoch, set the TensorBoard\n",
        "    # log directory, and log each run separately.\n",
        "    train_results = model.train(\n",
        "        data=\"Insert your image dataset YAML file path here\",\n",
        "        epochs=100, imgsz=640, device=\"cuda\", save=True, save_period=1,\n",
        "        project=tensorboard_log_dir, name=f\"run_1_to_100\"\n",
        "        )\n",
        "\n",
        "    # Save the final model with a clear name:\n",
        "    final_checkpoint_path = f\"{checkpoints_dir}/yolo_12n_epoch_100.pt\"\n",
        "    model.save(final_checkpoint_path)\n",
        "    print(f\"Final model saved: {final_checkpoint_path}\")\n",
        "\n",
        "    # If the training is complete, we notify the user that the AI\n",
        "    # model training has been completed.\n",
        "    send_email_notification(\n",
        "        \"Training Completed\",\n",
        "        \"The YOLO model training has completed successfully!\"\n",
        "        )\n",
        "except Exception as e:\n",
        "\n",
        "    # If an error occurred or the runtime was disconnected,\n",
        "    # an email notifies us.\n",
        "    error_message = traceback.format_exc()\n",
        "    send_email_notification(\n",
        "        \"Training Interrupted\",\n",
        "        f\"An error occurred:\\n\\n{error_message}\"\n",
        "        )\n",
        "    print(\n",
        "        f\"Training interrupted: {e}\"\n",
        "        )"
      ]
    }
  ],
  "metadata": {
    "accelerator": "GPU",
    "colab": {
      "gpuType": "A100",
      "machine_shape": "hm",
      "provenance": []
    },
    "kernelspec": {
      "display_name": "Python 3",
      "name": "python3"
    },
    "language_info": {
      "name": "python"
    }
  },
  "nbformat": 4,
  "nbformat_minor": 0
}
