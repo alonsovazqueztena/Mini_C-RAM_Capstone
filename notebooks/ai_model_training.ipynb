{
  "cells": [
    {
      "cell_type": "code",
      "execution_count": null,
      "metadata": {
        "id": "G-IloN9P4uZ0"
      },
      "outputs": [],
      "source": [
        "# Alonso Vazquez Tena\n",
        "# March 30, 2025\n",
        "# STG-452: Capstone Project II\n",
        "# I used source code from the following\n",
        "# website to complete this assignment:\n",
        "# https://chatgpt.com/share/67ba6278-9328-800e-bf32-540708d074c6\n",
        "# (used as starter code for basic functionality).\n",
        "\n",
        "# Import Google Drive.\n",
        "from google.colab import drive\n",
        "\n",
        "# Ensure that the Google Drive is flushed and unmounted\n",
        "# to refresh for the next epochs.\n",
        "drive.flush_and_unmount()"
      ]
    },
    {
      "cell_type": "code",
      "execution_count": null,
      "metadata": {
        "id": "eBUJvPKl4hcT"
      },
      "outputs": [],
      "source": [
        "# Check if Google Drive is able to\n",
        "# be accessed.\n",
        "!ls Insert Google Drive path here"
      ]
    },
    {
      "cell_type": "code",
      "execution_count": null,
      "metadata": {
        "id": "U3B4m26N6jHn"
      },
      "outputs": [],
      "source": [
        "# If Google Drive is present, remove it\n",
        "# to ensure we can mount it again.\n",
        "!rm -rf Insert Google Drive path here"
      ]
    },
    {
      "cell_type": "code",
      "execution_count": null,
      "metadata": {
        "id": "fgv2uWQ56l9o"
      },
      "outputs": [],
      "source": [
        "# We import the Google Drive again.\n",
        "from google.colab import drive\n",
        "\n",
        "# We mount the Google Drive.\n",
        "drive.mount('Insert Google Drive path here')"
      ]
    },
    {
      "cell_type": "code",
      "execution_count": null,
      "metadata": {
        "id": "NCEBGh-aQfd5"
      },
      "outputs": [],
      "source": [
        "# Check if we can access the images dataset.\n",
        "!ls \"Insert images dataset path here\""
      ]
    },
    {
      "cell_type": "code",
      "execution_count": null,
      "metadata": {
        "id": "1bNRSGXuQk_v"
      },
      "outputs": [],
      "source": [
        "# Install tensorboard, so we can retrieve useful\n",
        "# graphs regarding the accuracy and metrics of\n",
        "# the AI model.\n",
        "!pip install tensorboard"
      ]
    },
    {
      "cell_type": "code",
      "execution_count": null,
      "metadata": {},
      "outputs": [],
      "source": [
        "# Load and execute a live feed of the Tensorboard graphs.\n",
        "%load_ext tensorboard\n",
        "%tensorboard --logdir insert/directory/to/runs/here"
      ]
    },
    {
      "cell_type": "code",
      "execution_count": null,
      "metadata": {
        "id": "KHqYMF9X-tkx"
      },
      "outputs": [],
      "source": [
        "# Check if an NVIDIA GPU is available to be used.\n",
        "\n",
        "# Import torch to use it for AI training.\n",
        "!nvidia-smi\n",
        "import torch\n",
        "print(\"torch.cuda.is_available():\", torch.cuda.is_available())\n",
        "print(\"torch.cuda.device_count():\", torch.cuda.device_count())"
      ]
    },
    {
      "cell_type": "code",
      "execution_count": null,
      "metadata": {
        "id": "ZQV3x1SSQvrM"
      },
      "outputs": [],
      "source": [
        "# The following dependencies must be installed.\n",
        "\n",
        "# Ultralytics is the dependency in which our YOLO\n",
        "# model's program code is located at for training,\n",
        "# predicting, tracking, etc.\n",
        "!pip install ultralytics\n",
        "\n",
        "!pip install -U ultralytics\n",
        "\n",
        "# This allows for interaction with the operating system.\n",
        "import os\n",
        "\n",
        "# This allows for debugging and error handling.\n",
        "import traceback\n",
        "\n",
        "# Import YOLO to be able to use training, predicting,\n",
        "# tracking, etc. methods.\n",
        "from ultralytics import YOLO\n",
        "\n",
        "# We take in the Tensorboard log directory.\n",
        "tensorboard_log_dir = \"Insert Tensorboard log directory path here\"\n",
        "\n",
        "try:\n",
        "    # We load in the YOLO model here.\n",
        "    model = YOLO(\"Insert your YOLO model directory path here\")\n",
        "\n",
        "    # We train for 100 epochs here in 1 session here.\n",
        "\n",
        "    # We bring in the data through a YAML file, establish\n",
        "    # the image size, assign what device we will save (GPU CUDA),\n",
        "    # enable automatic saving, save every epoch, set the TensorBoard\n",
        "    # log directory, and log each run separately.\n",
        "    train_results = model.train(\n",
        "        data=\"Insert your image dataset YAML file path here\",\n",
        "        epochs=100, imgsz=640, device=\"cuda\", save=True, save_period=1,\n",
        "        project=tensorboard_log_dir, name=f\"session(insert-name)\"\n",
        "        )\n",
        "\n",
        "except Exception as e:\n",
        "\n",
        "    # When an exception occurs, print what happened.\n",
        "    print(f\"Training interrupted: {e}\")"
      ]
    }
  ],
  "metadata": {
    "accelerator": "GPU",
    "colab": {
      "gpuType": "A100",
      "machine_shape": "hm",
      "provenance": []
    },
    "kernelspec": {
      "display_name": "Python 3",
      "name": "python3"
    },
    "language_info": {
      "name": "python"
    }
  },
  "nbformat": 4,
  "nbformat_minor": 0
}
