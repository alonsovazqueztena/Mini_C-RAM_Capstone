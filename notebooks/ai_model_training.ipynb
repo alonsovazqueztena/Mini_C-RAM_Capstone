{
  "cells": [
    {
      "cell_type": "code",
      "execution_count": null,
      "metadata": {
        "id": "G-IloN9P4uZ0"
      },
      "outputs": [],
      "source": [
        "# Alonso Vazquez Tena | STG-452: Capstone Project II | April 6, 2025\n",
        "# Source: https://chatgpt.com/share/67ba6278-9328-800e-bf32-540708d074c6.\n",
        "\n",
        "from google.colab import drive # Import Google Drive.\n",
        "drive.flush_and_unmount() # Flush and unmount Google Drive."
      ]
    },
    {
      "cell_type": "code",
      "execution_count": null,
      "metadata": {
        "id": "eBUJvPKl4hcT"
      },
      "outputs": [],
      "source": [
        "!ls Insert Google Drive path here # Check drive access."
      ]
    },
    {
      "cell_type": "code",
      "execution_count": null,
      "metadata": {
        "id": "U3B4m26N6jHn"
      },
      "outputs": [],
      "source": [
        "!rm -rf Insert Google Drive path here # Remove to ensure mounting."
      ]
    },
    {
      "cell_type": "code",
      "execution_count": null,
      "metadata": {
        "id": "fgv2uWQ56l9o"
      },
      "outputs": [],
      "source": [
        "from google.colab import drive # Import drive again.\n",
        "drive.mount('Insert Google Drive path here') # Mount drive."
      ]
    },
    {
      "cell_type": "code",
      "execution_count": null,
      "metadata": {
        "id": "NCEBGh-aQfd5"
      },
      "outputs": [],
      "source": [
        "!ls \"Insert images dataset path here\" # Check image dataset access."
      ]
    },
    {
      "cell_type": "code",
      "execution_count": null,
      "metadata": {
        "id": "1bNRSGXuQk_v"
      },
      "outputs": [],
      "source": [
        "!pip install tensorboard # For metric and accuracy graphs."
      ]
    },
    {
      "cell_type": "code",
      "execution_count": null,
      "metadata": {},
      "outputs": [],
      "source": [
        "%load_ext tensorboard # Load Tensorboard.\n",
        "%tensorboard --logdir insert/directory/to/runs/here # Execute Tensorboard."
      ]
    },
    {
      "cell_type": "code",
      "execution_count": null,
      "metadata": {
        "id": "KHqYMF9X-tkx"
      },
      "outputs": [],
      "source": [
        "!nvidia-smi # Check Nvidia GPU.\n",
        "import torch # Use GPU for AI training.\n",
        "print(\"torch.cuda.is_available():\", torch.cuda.is_available())\n",
        "print(\"torch.cuda.device_count():\", torch.cuda.device_count()) "
      ]
    },
    {
      "cell_type": "code",
      "execution_count": null,
      "metadata": {
        "id": "ZQV3x1SSQvrM"
      },
      "outputs": [],
      "source": [
        "!pip install ultralytics\n",
        "!pip install -U ultralytics # For YOLO functionality.\n",
        "import os # For operating system interaction.\n",
        "import traceback # For error handling.\n",
        "from ultralytics import YOLO # For AI training, predicting, etc.\n",
        "\n",
        "tensorboard_log_dir = \"Insert Tensorboard log directory path here\" # Tensorboard log directory.\n",
        "try:\n",
        "    model = YOLO(\"Insert your YOLO model directory path here\") # Load YOLO model.\n",
        "    train_results = model.train(\n",
        "        data=\"Insert your image dataset YAML file path here\",\n",
        "        epochs=100, imgsz=640, device=\"cuda\", save=True, save_period=10,\n",
        "        project=tensorboard_log_dir, name=f\"session(insert-name)\"\n",
        "        ) # Train YOLO model (YAML file, epochs, image size, GPU or CPU, allowed saving, save period, log, run name).\n",
        "except Exception as e:\n",
        "    print(f\"Training interrupted: {e}\") # Error handling."
      ]
    }
  ],
  "metadata": {
    "accelerator": "GPU",
    "colab": {
      "gpuType": "A100",
      "machine_shape": "hm",
      "provenance": []
    },
    "kernelspec": {
      "display_name": "Python 3",
      "name": "python3"
    },
    "language_info": {
      "name": "python"
    }
  },
  "nbformat": 4,
  "nbformat_minor": 0
}
